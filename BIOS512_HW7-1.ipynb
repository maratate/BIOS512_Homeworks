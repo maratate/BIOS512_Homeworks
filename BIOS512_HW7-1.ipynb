{
 "cells": [
  {
   "cell_type": "markdown",
   "id": "766a4c53-5596-4e39-9082-8e97c8e59c41",
   "metadata": {},
   "source": [
    "# Homework 7\n",
    "This homework is based on the advanced Git lectures. "
   ]
  },
  {
   "cell_type": "markdown",
   "id": "bbb6e943-d49a-4d2e-81f3-59c2d1a3be31",
   "metadata": {},
   "source": [
    "## Question 1\n",
    "#### What is the holy trinity of Git? (Just name the parts.)"
   ]
  },
  {
   "cell_type": "markdown",
   "id": "f8a950a4-1d62-4b34-a37d-fe6b372b8ff6",
   "metadata": {},
   "source": [
    "Answer:  \n",
    "The Head  \n",
    "The Tree  \n",
    "The Stage"
   ]
  },
  {
   "cell_type": "markdown",
   "id": "47bc27c0-290e-4e94-a071-a37ff613a7c8",
   "metadata": {},
   "source": [
    "## Question 2\n",
    "#### Explain how patches relate to the idea of committing a change to the history of your code?"
   ]
  },
  {
   "cell_type": "markdown",
   "id": "9366138e-1488-449f-8251-6d5ef394bcd9",
   "metadata": {},
   "source": [
    "Answer: A patch is a text file that shows the differences between two versions of code. Each commit is essentially a patch that records how the code changed from the previous version to the next, creating a history of transformations over time."
   ]
  },
  {
   "cell_type": "markdown",
   "id": "9aa99e0b-8fbe-4ccc-a728-b39b1fda153c",
   "metadata": {},
   "source": [
    "## Question 3\n",
    "#### What is the difference between a branch and a fork?"
   ]
  },
  {
   "cell_type": "markdown",
   "id": "595d9488-cc82-4277-b7ed-8d782dca6f2c",
   "metadata": {},
   "source": [
    "Answer: A branch is a linear series of commits within the same repository, creating a history of your code. It represents a line of development, and Git tracks which commit is the current “head” of that branch as new commits are made. A branch points to a commit. Whereas a fork is a full copy of a repository that exists separately from the original. Unlike a branch, which stays within the same project and is permanent, a fork is used to develop changes independently."
   ]
  },
  {
   "cell_type": "markdown",
   "id": "c6ac98c7-e4ea-4274-a88d-398cb739fab9",
   "metadata": {},
   "source": [
    "## Question 4\n",
    "#### How are diff and patch related? What’s the difference?"
   ]
  },
  {
   "cell_type": "markdown",
   "id": "a854bb23-0e7a-4398-b3c0-4796261ba8b5",
   "metadata": {},
   "source": [
    "Answer: The diff command compares two files and shows the human-readable differences between them, such as which lines were added, removed, or changed. The patch command takes that difference and applies it to the original file to create the updated version. In other words, diff command shows the changes, while patch program applies them."
   ]
  },
  {
   "cell_type": "markdown",
   "id": "02988321-54d5-4086-a62f-d6f7a5961c22",
   "metadata": {},
   "source": [
    "## Question 5\n",
    "#### See the diagram below.\n",
    "```\n",
    "alice            *-*-*-*-d-e     \n",
    "bob              *-*-*-*-a-b-c\n",
    "origin/main      *-*-*-*-a-b-c\n",
    "```\n",
    "#### a) What part of the Git trininty does each line represent?\n",
    "#### b) What would the result be if Alice performed a rebase? Edit the diagram. What would she type in the terminal to rebase, then push?\n",
    "#### c) What would the result be if Alice performed a merge? Edit the diagram. What would she type in the terminal to merge, then push?\n",
    "#### d) Which would be the better option (rebase vs. merge)? Why?"
   ]
  },
  {
   "cell_type": "markdown",
   "id": "a9a4fe49-de20-45cb-90cd-0dfa1b7e9ca6",
   "metadata": {},
   "source": [
    "a) Answer: Each line represents a branch which is part of the Head."
   ]
  },
  {
   "cell_type": "markdown",
   "id": "f2915428-b054-4089-b6c7-9ef773414c90",
   "metadata": {},
   "source": [
    "b) Answer:   \n",
    "alice \\*-\\*-\\*-a-b-c-d'-e'  \n",
    "bob \\*-\\*-\\*-a-b-c  \n",
    "origin/main \\*-\\*-\\*-a-b-c-d′-e′  \n",
    "\n",
    "Terminal:  \n",
    "git checkout alice  \n",
    "git rebase bob  \n",
    "git push --force-with-lease\n"
   ]
  },
  {
   "cell_type": "markdown",
   "id": "68192a9f-720b-4167-93bf-8df75e7a484e",
   "metadata": {},
   "source": [
    "c) Answer:  \n",
    "alice \\*-\\*-\\*-d-e-a-b-c  \n",
    "bob \\*-\\*-\\*-a-b-c  \n",
    "origin/main \\*-\\*-*-d-e-a-b-c\n",
    "\n",
    "Terminal:  \n",
    "git checkout alice  \n",
    "git merge bob  \n",
    "git push\n",
    "\n"
   ]
  },
  {
   "cell_type": "markdown",
   "id": "1d1e075f-69a9-4ed3-b3b7-1caf0f4d6949",
   "metadata": {},
   "source": [
    "d) Answer: Rebase would be the better option because it keeps the project history clean and linear, which is better for working with multiple collaborators. When Alice rebases, her commits are placed on top of Bob’s, showing the true order of changes without creating unnecessary merge commits. This makes the history easier to read and avoids rewriting the shared history in a confusing way or rude, which can happen with a merge."
   ]
  },
  {
   "cell_type": "markdown",
   "id": "65b5eb8a-cee0-4a97-b89c-8746c37669ea",
   "metadata": {},
   "source": [
    "## Question 6\n",
    "#### Match the command/vocab word to the description.\n",
    "You can edit the table!\n",
    "\n",
    "| Command / Vocab     | Answer | Description |\n",
    "|---------------------|------------|------------|\n",
    "| git stash          | B | A.  Gives project history |\n",
    "| git push           | J | B.  Takes any changes that haven't been committed and puts them in a dust bin |\n",
    "| git clone          | N | C.  Shows who last modified each line of a file and in which commit |\n",
    "| git commit         | M | D.  Retrieves any commits on the remote branch that you don’t yet have locally and integrates them into your current branch |\n",
    "| git log            | A| E.  Moves something from the branch to the working copy |\n",
    "| git add -i         | K| F.  Lists which files are staged, unstaged, and untracked |\n",
    "| git rebase         | P | G.  Displays information about a specific commit |\n",
    "| git init           | Q | H.  Combines two branches together in a way that is not ideal for your collaborators |\n",
    "| git checkout       | E | I.  Adds changes from the working directory to the staging area |\n",
    "| git status         | F | J.  Pushes the new commits to the main branch |\n",
    "| git diff           | O | K.  Interactive staging! |\n",
    "| git merge          | H | L.  Text file that contains names of files Git should not track |\n",
    "| git add            | I | M.  Saves file changes to the main branch |\n",
    "| git pull           | D | N.  Makes a copy of an existing repo at in a new directory at another location |\n",
    "| git show           | G | O.  Compares current, unsaved changes to the main branch |\n",
    "| git blame          | C | P.  Combines branches by moving commits onto the tip of another branch, creating a linear history |\n",
    "| .gitignore         | L | Q. Creates a new git repository |"
   ]
  },
  {
   "cell_type": "markdown",
   "id": "36663f18-7e8a-4400-86ef-1cbda6b508c1",
   "metadata": {},
   "source": [
    "## Question 7\n",
    "#### Walk me through how you would do interactive staging.\n",
    "#### a) Firstly, what situation would interactive staging be useful in?\n",
    "#### b) What command(s) help you prepare for what you'll see while interactive staging? \n",
    "*Hint*: Check the TA notes.\n",
    "#### b) What git command would you use to start interactive staging?\n",
    "\n",
    "#### c) On the text-based interactive menu, what option do you use?\n",
    "\n",
    "#### d) After pressing that option, how do you select the file you want to stage?\n",
    "\n",
    "#### e) What option do you type if you do not want to stage a hunk?\n",
    "\n",
    "#### f) Once you get to a hunk you want to stage, what do you do?\n",
    "\n",
    "#### g) What if we have more hunks we want to stage?\n"
   ]
  },
  {
   "cell_type": "markdown",
   "id": "df3acea1-7e71-49bd-94ed-96ca6383b269",
   "metadata": {},
   "source": [
    "a) Answer: Interactive staging lets you carefully construct a series of commits, which is useful because it allows you to avoid stopping every few lines of code to make a commit. This is helpful when you have multiple changes in the same file or across several files and want to group them logically into separate commits. By selectively staging changes, you can keep your commit history organized and make it easier to track and understand the work you’ve done."
   ]
  },
  {
   "cell_type": "markdown",
   "id": "06b18eff-39fa-4480-8954-5200d14a85fc",
   "metadata": {},
   "source": [
    "b) Answer:   \n",
    "git status  \n",
    "git diff \n",
    " "
   ]
  },
  {
   "cell_type": "markdown",
   "id": "b5336018-c179-487b-84d2-f026e38b933a",
   "metadata": {},
   "source": [
    "b) Answer: git add -i"
   ]
  },
  {
   "cell_type": "markdown",
   "id": "bd2b26cf-7881-4547-9107-13ab4c6603dd",
   "metadata": {},
   "source": [
    "c) Answer: On the text-based interactive menu, to start creating a patch you type p. This puts Git into patch mode, allowing you to review changes hunk-by-hunk and decide which ones to stage."
   ]
  },
  {
   "cell_type": "markdown",
   "id": "21b8c9c6-4c7c-4685-a64c-43f32096179e",
   "metadata": {},
   "source": [
    "d) Answer: After pressing the p option to enter patch mode, Git will display a numbered list of files that have changes. You select the file you want to stage by typing the number corresponding to that file. Choose Y to stage the hunk."
   ]
  },
  {
   "cell_type": "markdown",
   "id": "8f389ad5-8b40-4ba5-9b51-9d8200d39bc4",
   "metadata": {},
   "source": [
    "e) Answer: If you do not want to stage a hunk during interactive staging, you type n. This tells Git to skip staging that hunk and move to the next one."
   ]
  },
  {
   "cell_type": "markdown",
   "id": "d5743224-4adb-4bfb-b119-124ba878c774",
   "metadata": {},
   "source": [
    "f) Answer: Once you get to a hunk you want to stage, you type y and press Enter. This stages the selected hunk. When finished, you press Ctrl + D to exit interactive staging. You can then run git status to confirm that the file is listed under “Changes to be committed\". Finally, you create the commit by running: git commit -m \"some message\""
   ]
  },
  {
   "cell_type": "markdown",
   "id": "373cb207-c262-4b2b-bddd-d4c14ad9ed4e",
   "metadata": {},
   "source": [
    "g) Answer: If there are more hunks you want to stage, you can start a new interactive staging session by running git add -I again and typing p. This allows you to continue selecting hunks to stage. Once all desired hunks are staged and committed, you can push your changes to the remote repository with git push -u origin main."
   ]
  },
  {
   "cell_type": "code",
   "execution_count": null,
   "id": "5a901fe4-6921-4103-aa82-9b81599823ac",
   "metadata": {},
   "outputs": [],
   "source": []
  }
 ],
 "metadata": {
  "kernelspec": {
   "display_name": "Python 3 (ipykernel)",
   "language": "python",
   "name": "python3"
  },
  "language_info": {
   "codemirror_mode": {
    "name": "ipython",
    "version": 3
   },
   "file_extension": ".py",
   "mimetype": "text/x-python",
   "name": "python",
   "nbconvert_exporter": "python",
   "pygments_lexer": "ipython3",
   "version": "3.13.7"
  }
 },
 "nbformat": 4,
 "nbformat_minor": 5
}
